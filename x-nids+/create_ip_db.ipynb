{
 "cells": [
  {
   "cell_type": "code",
   "execution_count": 1,
   "metadata": {},
   "outputs": [],
   "source": [
    "import pandas as pd\n",
    "\n",
    "ips = [\"18.219.5.43\", \"18.218.115.60\", \"18.219.211.138\", \"172.31.69.15\", \"18.218.229.235\", \"172.31.69.17\", \"172.31.69.9\", \"172.31.0.2\", \"172.31.69.25\", \"18.217.165.70\", \"18.218.55.126\", \"18.221.219.4\", \"13.59.126.31\", \"172.31.69.8\", \"18.219.9.1\", \"172.31.69.28\", \"13.58.98.64\", \"18.219.193.20\", \"18.216.24.42\", \"18.219.32.43\", \"18.218.11.51\", \"52.14.136.135\", \"172.31.69.14\", \"172.31.69.13\", \"18.216.200.189\"]"
   ]
  },
  {
   "cell_type": "code",
   "execution_count": 2,
   "metadata": {},
   "outputs": [
    {
     "data": {
      "application/vnd.jupyter.widget-view+json": {
       "model_id": "be0607cc3d394ae1be36e932aac21e37",
       "version_major": 2,
       "version_minor": 0
      },
      "text/plain": [
       "Resolving data files:   0%|          | 0/36 [00:00<?, ?it/s]"
      ]
     },
     "metadata": {},
     "output_type": "display_data"
    },
    {
     "data": {
      "application/vnd.jupyter.widget-view+json": {
       "model_id": "c111b8a9498b49a4ba187b3786f8a80b",
       "version_major": 2,
       "version_minor": 0
      },
      "text/plain": [
       "Resolving data files:   0%|          | 0/36 [00:00<?, ?it/s]"
      ]
     },
     "metadata": {},
     "output_type": "display_data"
    }
   ],
   "source": [
    "from dotenv import load_dotenv\n",
    "from os import getenv\n",
    "from datasets import load_dataset\n",
    "import pandas as pd\n",
    "\n",
    "load_dotenv()\n",
    "HUGGING_FACE_READ_TOKEN = getenv(\"HUGGING_FACE_READ_TOKEN\")\n",
    "\n",
    "index = 0\n",
    "dataset = load_dataset(\"Jetlime/NF-CSE-CIC-IDS2018-v2\", streaming=False, split=\"test\")\n",
    "dataset = dataset.to_pandas()"
   ]
  },
  {
   "cell_type": "code",
   "execution_count": 3,
   "metadata": {},
   "outputs": [],
   "source": [
    "row_index = dataset.loc[dataset['input'] == \"IPV4_SRC_ADDR: 18.219.9.1, L4_SRC_PORT: 52156, IPV4_DST_ADDR: 172.31.69.28, L4_DST_PORT: 80, PROTOCOL: 6, L7_PROTO: 7.0, IN_BYTES: 478, IN_PKTS: 5, OUT_BYTES: 1147, OUT_PKTS: 5, TCP_FLAGS: 219, CLIENT_TCP_FLAGS: 219, SERVER_TCP_FLAGS: 27, FLOW_DURATION_MILLISECONDS: 4294940, DURATION_IN: 26, DURATION_OUT: 26, MIN_TTL: 127, MAX_TTL: 127, LONGEST_FLOW_PKT: 975, SHORTEST_FLOW_PKT: 40, MIN_IP_PKT_LEN: 40, MAX_IP_PKT_LEN: 975, SRC_TO_DST_SECOND_BYTES: 478.0, DST_TO_SRC_SECOND_BYTES: 1147.0, RETRANSMITTED_IN_BYTES: 0, RETRANSMITTED_IN_PKTS: 0, RETRANSMITTED_OUT_BYTES: 0, RETRANSMITTED_OUT_PKTS: 0, SRC_TO_DST_AVG_THROUGHPUT: 136000, DST_TO_SRC_AVG_THROUGHPUT: 336000, NUM_PKTS_UP_TO_128_BYTES: 8, NUM_PKTS_128_TO_256_BYTES: 0, NUM_PKTS_256_TO_512_BYTES: 1, NUM_PKTS_512_TO_1024_BYTES: 1, NUM_PKTS_1024_TO_1514_BYTES: 0, TCP_WIN_MAX_IN: 65535, TCP_WIN_MAX_OUT: 26883, ICMP_TYPE: 0, ICMP_IPV4_TYPE: 0, DNS_QUERY_ID: 0, DNS_QUERY_TYPE: 0, DNS_TTL_ANSWER: 0, FTP_COMMAND_RET_CODE: 0\"].index[0]\n",
    "filtered_rows = dataset[(dataset['input'].str.contains('18.219.9.1')) | (dataset['input'].str.contains('172.31.69.28'))]\n",
    "preceding_rows = filtered_rows[filtered_rows.index < row_index].tail(10)"
   ]
  },
  {
   "cell_type": "code",
   "execution_count": 4,
   "metadata": {},
   "outputs": [
    {
     "name": "stdout",
     "output_type": "stream",
     "text": [
      "United States\n",
      "United States\n",
      "United States\n",
      "None\n",
      "United States\n",
      "None\n",
      "None\n",
      "None\n",
      "None\n",
      "United States\n",
      "United States\n",
      "United States\n",
      "United States\n",
      "None\n",
      "United States\n",
      "None\n",
      "United States\n",
      "United States\n",
      "United States\n",
      "United States\n",
      "United States\n",
      "United States\n",
      "None\n",
      "None\n",
      "United States\n"
     ]
    },
    {
     "data": {
      "text/plain": [
       "{'18.219.5.43': {'location': 'Hilliard, Ohio, United States',\n",
       "  'intelligence': 'Recognized for involvement in DDoS attacks'},\n",
       " '18.218.115.60': {'location': 'Hilliard, Ohio, United States',\n",
       "  'intelligence': 'Source of spam emails'},\n",
       " '18.219.211.138': {'location': 'Hilliard, Ohio, United States',\n",
       "  'intelligence': 'Known for SSH brute-force attacks'},\n",
       " '172.31.69.15': {'location': 'None, None, None', 'intelligence': ''},\n",
       " '18.218.229.235': {'location': 'Hilliard, Ohio, United States',\n",
       "  'intelligence': 'Involved in botnet communication'},\n",
       " '172.31.69.17': {'location': 'None, None, None', 'intelligence': ''},\n",
       " '172.31.69.9': {'location': 'None, None, None', 'intelligence': ''},\n",
       " '172.31.0.2': {'location': 'None, None, None', 'intelligence': ''},\n",
       " '172.31.69.25': {'location': 'None, None, None', 'intelligence': ''},\n",
       " '18.217.165.70': {'location': 'Hilliard, Ohio, United States',\n",
       "  'intelligence': 'Flagged for suspicious DNS requests'},\n",
       " '18.218.55.126': {'location': 'Hilliard, Ohio, United States',\n",
       "  'intelligence': 'Source of repeated brute-force attempts'},\n",
       " '18.221.219.4': {'location': 'Hilliard, Ohio, United States',\n",
       "  'intelligence': 'Malicious activity linked to malware distribution'},\n",
       " '13.59.126.31': {'location': 'Hilliard, Ohio, United States',\n",
       "  'intelligence': 'Involved in phishing campaigns'},\n",
       " '172.31.69.8': {'location': 'None, None, None', 'intelligence': ''},\n",
       " '18.219.9.1': {'location': 'Hilliard, Ohio, United States',\n",
       "  'intelligence': 'IP flagged in multiple attack patterns'},\n",
       " '172.31.69.28': {'location': 'None, None, None', 'intelligence': ''},\n",
       " '13.58.98.64': {'location': 'Hilliard, Ohio, United States',\n",
       "  'intelligence': 'Source of spam email activity'},\n",
       " '18.219.193.20': {'location': 'Hilliard, Ohio, United States',\n",
       "  'intelligence': 'SSH brute-force activity observed'},\n",
       " '18.216.24.42': {'location': 'Hilliard, Ohio, United States',\n",
       "  'intelligence': 'Recognized as part of a DDoS botnet'},\n",
       " '18.219.32.43': {'location': 'Hilliard, Ohio, United States',\n",
       "  'intelligence': 'Part of a DDoS attack'},\n",
       " '18.218.11.51': {'location': 'Hilliard, Ohio, United States',\n",
       "  'intelligence': 'Phishing email source'},\n",
       " '52.14.136.135': {'location': 'Hilliard, Ohio, United States',\n",
       "  'intelligence': 'Botnet communication detected'},\n",
       " '172.31.69.14': {'location': 'None, None, None', 'intelligence': ''},\n",
       " '172.31.69.13': {'location': 'None, None, None', 'intelligence': ''},\n",
       " '18.216.200.189': {'location': 'Hilliard, Ohio, United States',\n",
       "  'intelligence': 'IP flagged for SSH brute-force attempts'}}"
      ]
     },
     "execution_count": 4,
     "metadata": {},
     "output_type": "execute_result"
    }
   ],
   "source": [
    "import requests\n",
    "\n",
    "data = {}\n",
    "\n",
    "ip_intel = [\"IP flagged for SSH brute-force attempts\",\n",
    "\"Botnet communication detected\",\n",
    "\"Phishing email source\",\n",
    "\"Part of a DDoS attack\",\n",
    "\"Recognized as part of a DDoS botnet\",\n",
    "\"SSH brute-force activity observed\",\n",
    "\"Source of spam email activity\",\n",
    "\"IP flagged in multiple attack patterns\",\n",
    "\"Involved in phishing campaigns\",\n",
    "\"Malicious activity linked to malware distribution\",\n",
    "\"Source of repeated brute-force attempts\",\n",
    "\"Flagged for suspicious DNS requests\",\n",
    "\"Involved in botnet communication\",\n",
    "\"Known for SSH brute-force attacks\",\n",
    "\"Source of spam emails\",\n",
    "\"Recognized for involvement in DDoS attacks\",\n",
    "]\n",
    "\n",
    "def get_location(ip_address):\n",
    "    response = requests.get(f'https://ipapi.co/{ip_address}/json/').json()\n",
    "    location_data = {\n",
    "        \"ip\": ip_address,\n",
    "        \"city\": response.get(\"city\"),\n",
    "        \"region\": response.get(\"region\"),\n",
    "        \"country\": response.get(\"country_name\")\n",
    "    }\n",
    "    return location_data\n",
    "\n",
    "for ip in ips:\n",
    "    data[ip] = {}\n",
    "    location = get_location(ip)\n",
    "    data[ip]['location'] = f\"{location['city']}, {location['region']}, {location['country']}\"\n",
    "    print(location['country'])\n",
    "    if location['country'] == None:\n",
    "        data[ip]['intelligence'] = ''\n",
    "    else:\n",
    "        data[ip]['intelligence'] = ip_intel.pop()\n",
    "data"
   ]
  },
  {
   "cell_type": "code",
   "execution_count": 5,
   "metadata": {},
   "outputs": [
    {
     "data": {
      "text/plain": [
       "'ip_information.csv'"
      ]
     },
     "execution_count": 5,
     "metadata": {},
     "output_type": "execute_result"
    }
   ],
   "source": [
    "# Convert the dictionary to a DataFrame\n",
    "ip_df = pd.DataFrame.from_dict(data, orient='index')\n",
    "\n",
    "# Save the DataFrame to a CSV file\n",
    "csv_path = 'ip_information.csv'\n",
    "ip_df.to_csv(csv_path)\n",
    "\n",
    "csv_path"
   ]
  }
 ],
 "metadata": {
  "kernelspec": {
   "display_name": "venv",
   "language": "python",
   "name": "python3"
  },
  "language_info": {
   "codemirror_mode": {
    "name": "ipython",
    "version": 3
   },
   "file_extension": ".py",
   "mimetype": "text/x-python",
   "name": "python",
   "nbconvert_exporter": "python",
   "pygments_lexer": "ipython3",
   "version": "3.10.12"
  }
 },
 "nbformat": 4,
 "nbformat_minor": 2
}
